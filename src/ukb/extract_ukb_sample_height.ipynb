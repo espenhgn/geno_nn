{
 "cells": [
  {
   "cell_type": "code",
   "execution_count": null,
   "id": "5f2dc08d-61a3-4e6b-98eb-8b9021d3ada4",
   "metadata": {},
   "outputs": [],
   "source": [
    "%matplotlib inline"
   ]
  },
  {
   "cell_type": "code",
   "execution_count": null,
   "id": "de3c222b-5083-4d14-8fa2-3132e0370457",
   "metadata": {},
   "outputs": [],
   "source": [
    "import pandas as pd\n",
    "import pandas_plink as pk\n",
    "import numpy as np\n",
    "import os\n",
    "import matplotlib.pyplot as plt\n",
    "import subprocess as sp\n",
    "import h5py\n",
    "import statsmodels.formula.api as smf\n",
    "import statsmodels.api as sm\n",
    "import seaborn as sns"
   ]
  },
  {
   "cell_type": "code",
   "execution_count": null,
   "id": "50f9aa6d-d04a-41e5-97ad-121798e6d7d6",
   "metadata": {},
   "outputs": [],
   "source": [
    "# input files\n",
    "ROOTDIR = '/ess/p33/cluster/users/espehage/geno_nn/src/ukb'\n",
    "OUTDIR = os.path.join(ROOTDIR, 'output')\n",
    "UKBLAKE = '/ess/p33/data/durable/s3-api/ukblake'\n",
    "UKBDATA = '/ess/p33/data/durable/s3-api/ukbdata'\n",
    "geno = os.path.join(UKBLAKE, 'genetics')\n",
    "pheno_ukb = os.path.join(UKBLAKE, 'phenotypes')\n",
    "iidsets_out = os.path.join(ROOTDIR, 'iidsets')\n",
    "pheno_out = os.path.join(ROOTDIR, 'pheno')\n",
    "\n",
    "SUMSTATS = '/cluster/projects/p33/groups/biostat/SUMSTATv3/v3.1/STD_GRCh37/GIANT_HEIGHT_2022.sumstats.gz'\n",
    "TRAIT = 'height'\n",
    "COVAR = '/ess/p33/cluster/users/espehage/gwas_ukb_linn_loneliness/src/pheno/processed/COVAR.DEFAULT.tsv.gz'\n",
    "\n",
    "GENO_PREFIX = 'ukb_cal_merged'\n"
   ]
  },
  {
   "cell_type": "code",
   "execution_count": null,
   "id": "d4d89527-edfd-48f3-8a4d-0aea25fcbb5a",
   "metadata": {},
   "outputs": [],
   "source": [
    "# extract the top SNPs ranked by -log10(P-value)\n",
    "# for subsequent readout from PLINK .bed files\n",
    "sumstats = pd.read_csv(SUMSTATS, sep='\\s+')"
   ]
  },
  {
   "cell_type": "code",
   "execution_count": null,
   "id": "52c3e3e1-2140-47ce-866a-65dbd23d8e84",
   "metadata": {},
   "outputs": [],
   "source": [
    "sumstats.head()"
   ]
  },
  {
   "cell_type": "code",
   "execution_count": null,
   "id": "84645de5-ee56-414f-acfe-a5249a87f8e3",
   "metadata": {},
   "outputs": [],
   "source": [
    "# !mkdir -p data\n",
    "# os.makedirs(os.path.join(OUTDIR, ))"
   ]
  },
  {
   "cell_type": "code",
   "execution_count": null,
   "metadata": {},
   "outputs": [],
   "source": [
    "# extract the quasi-independent SNP IDs from Yengo et al. 2022\n",
    "quasi_indep = pd.read_excel(os.path.join(ROOTDIR, '41586_2022_5275_MOESM6_ESM.xlsx'), usecols=['Chromosome', 'Position (hg37)'])\n",
    "quasi_indep.rename(columns={'Chromosome': 'CHR', 'Position (hg37)': 'POS'}, inplace=True)\n",
    "\n",
    "sumstats = sumstats.merge(quasi_indep, on=['CHR', 'POS'])\n",
    "\n",
    "# store SNPs for extraction\n",
    "snps_p = sumstats[['RSID', 'P']].copy()\n",
    "top_snps = f'{OUTDIR}/{TRAIT}.top_indep_snps'\n",
    "snps_p['RSID'].to_csv(top_snps, sep='\\t', index=False, header=False)"
   ]
  },
  {
   "cell_type": "code",
   "execution_count": null,
   "metadata": {},
   "outputs": [],
   "source": [
    "# dump top SNPs to file\n",
    "sumstats.to_csv(os.path.join(OUTDIR, 'GIANT_HEIGHT_2022.top_indep_snps.sumstats.gz'), sep='\\t', index=False)"
   ]
  },
  {
   "cell_type": "code",
   "execution_count": null,
   "id": "f334845e-aae1-4eca-8dff-0e2e07a0135d",
   "metadata": {},
   "outputs": [],
   "source": [
    "pd.read_csv(top_snps, header=None)"
   ]
  },
  {
   "cell_type": "code",
   "execution_count": null,
   "id": "94992030-5572-4e72-aee2-9bc35ea07abc",
   "metadata": {},
   "outputs": [],
   "source": [
    "# produce PLINK bed file with subset of SNPs\n",
    "bed_output = f'{OUTDIR}/{GENO_PREFIX}.top_indep_snps'\n",
    "call = f'plink --bfile {os.path.join(ROOTDIR, \"cal\", GENO_PREFIX)} --memory 64000 --threads 16 --extract {top_snps} --make-bed --out {bed_output}'\n",
    "proc = sp.run(call.split(), capture_output=True)\n",
    "proc"
   ]
  },
  {
   "cell_type": "code",
   "execution_count": null,
   "id": "ae37e139-e82e-4ac7-a4c4-4c6bd52862a3",
   "metadata": {},
   "outputs": [],
   "source": [
    "G = pk.read_plink1_bin(bed_output + '.bed')\n",
    "G"
   ]
  },
  {
   "cell_type": "code",
   "execution_count": null,
   "id": "21c5d6d9-1c4a-45db-9814-7eb352568a0d",
   "metadata": {},
   "outputs": [],
   "source": [
    "# get phenotype value of interest for included individuals\n",
    "covar = pd.read_csv(COVAR, sep='\\t')\n",
    "\n",
    "# phenotypic info\n",
    "pheno = pd.read_csv(os.path.join(OUTDIR, 'WHITE_BRITISH_SELF_GEN_noREL_noEXL_pheno.tsv'), sep='\\t')\n",
    "\n",
    "# merge\n",
    "covar = covar.merge(pheno, on='IID')\n",
    "\n",
    "# match IIDs with genotyped samples\n",
    "samples = pd.DataFrame({'IID': np.array(G.sample).astype(int)})\n",
    "\n",
    "# merge\n",
    "covar = pd.merge(covar, samples, on='IID', how='inner')\n",
    "covar"
   ]
  },
  {
   "cell_type": "code",
   "execution_count": null,
   "metadata": {},
   "outputs": [],
   "source": [
    "def standardize_resid(df, x, cont_variables=[], cat_variables=[]):\n",
    "    formula = f'{x}~'\n",
    "    if len(cont_variables) > 0:\n",
    "        formula += '+'.join(cont_variables)\n",
    "        if len(cat_variables) > 0:\n",
    "            formula += '+'\n",
    "    if len(cat_variables) > 0:\n",
    "        formula += '+'.join([f'C({var})' for var in cat_variables])\n",
    "    print(formula)\n",
    "    model = smf.ols(formula, data=sm.add_constant(df)).fit()\n",
    "    return model.get_influence().resid_studentized_internal"
   ]
  },
  {
   "cell_type": "code",
   "execution_count": null,
   "metadata": {},
   "outputs": [],
   "source": [
    "# prediction value, i.e., height regularized on SEX, AGE, PC1-20 variables\n",
    "covar['height_resid'] = np.NaN\n",
    "covar.loc[~covar.height.isna(), 'height_resid'] = standardize_resid(covar, 'height', ['AGE'] + [f'PC{i}' for i in range(1, 21)], ['SEX'])\n",
    "covar"
   ]
  },
  {
   "cell_type": "code",
   "execution_count": null,
   "metadata": {},
   "outputs": [],
   "source": [
    "sns.jointplot(data=covar, x='height', y='height_resid', hue='SEX', marker=',', s=2)"
   ]
  },
  {
   "cell_type": "code",
   "execution_count": null,
   "id": "57de0470-8e43-46ac-84dc-e5ea8cb84ff8",
   "metadata": {},
   "outputs": [],
   "source": [
    "# write to file\n",
    "with h5py.File(os.path.join(OUTDIR, 'ukb_sample.h5'), 'w') as f:\n",
    "    f.create_dataset('x_data', data=G.sel(sample=list(covar['IID'].astype(str))).compute().astype('uint8'))\n",
    "    f.create_dataset('y_data', data=np.array(covar['height_resid']))\n",
    "# append dataframe\n",
    "covar.to_hdf(os.path.join(OUTDIR, 'ukb_sample.h5'), mode='a', key='df')"
   ]
  },
  {
   "cell_type": "code",
   "execution_count": null,
   "metadata": {},
   "outputs": [],
   "source": [
    "with h5py.File(os.path.join(OUTDIR, 'ukb_sample.h5'), 'r') as f:\n",
    "    print(list(f.items()))"
   ]
  },
  {
   "cell_type": "code",
   "execution_count": null,
   "metadata": {},
   "outputs": [],
   "source": []
  }
 ],
 "metadata": {
  "kernelspec": {
   "display_name": "Python 3 (ipykernel)",
   "language": "python",
   "name": "python3"
  }
 },
 "nbformat": 4,
 "nbformat_minor": 5
}
