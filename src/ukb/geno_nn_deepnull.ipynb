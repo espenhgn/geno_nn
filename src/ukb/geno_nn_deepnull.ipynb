{
 "cells": [
  {
   "cell_type": "code",
   "execution_count": null,
   "metadata": {},
   "outputs": [],
   "source": [
    "%matplotlib inline"
   ]
  },
  {
   "cell_type": "code",
   "execution_count": null,
   "metadata": {},
   "outputs": [],
   "source": [
    "import os\n",
    "os.environ[\"KERAS_BACKEND\"] = \"tensorflow\"\n",
    "import keras\n",
    "import tensorflow as tf\n",
    "import matplotlib.pyplot as plt\n",
    "import numpy as np\n",
    "import pandas as pd\n",
    "from sklearn.preprocessing import LabelEncoder, StandardScaler, MinMaxScaler\n",
    "import pandas_plink as pk\n",
    "import h5py\n",
    "import seaborn as sns\n",
    "import statsmodels.api as sm"
   ]
  },
  {
   "cell_type": "code",
   "execution_count": null,
   "metadata": {},
   "outputs": [],
   "source": [
    "# check that device_type GPU is available\n",
    "tf.config.list_physical_devices(\n",
    "    device_type='GPU'\n",
    ")"
   ]
  },
  {
   "cell_type": "code",
   "execution_count": null,
   "metadata": {},
   "outputs": [],
   "source": [
    "# read in data\n",
    "with h5py.File('output/ukb_sample.h5', 'r') as hf:\n",
    "    x_data = hf['x_data'][()]\n",
    "    y_data = hf['y_data'][()].reshape((-1, 1))\n",
    "\n",
    "# drop rows with missingness\n",
    "badrows = np.isnan(y_data.flatten())\n",
    "x_data = x_data[~badrows, ]\n",
    "y_data = y_data[~badrows, ]\n",
    "\n",
    "# drop outliers rows with y>5xSTD\n",
    "badrows = abs(y_data.flatten()) >= (y_data.flatten().std() * 5)\n",
    "x_data = x_data[~badrows, ]\n",
    "y_data = y_data[~badrows, ]\n"
   ]
  },
  {
   "cell_type": "code",
   "execution_count": null,
   "metadata": {},
   "outputs": [],
   "source": [
    "x_data.shape, y_data.shape"
   ]
  },
  {
   "cell_type": "raw",
   "metadata": {},
   "source": [
    "x_data, y_data"
   ]
  },
  {
   "cell_type": "raw",
   "metadata": {},
   "source": [
    "# y_scaler = MinMaxScaler(feature_range=(-1, 1))\n",
    "y_scaler = StandardScaler()\n",
    "y_scaler.fit(y_data)\n",
    "y_data = y_scaler.transform(y_data)"
   ]
  },
  {
   "cell_type": "code",
   "execution_count": null,
   "metadata": {},
   "outputs": [],
   "source": [
    "# train/validation split\n",
    "batch_size = 1024\n",
    "maxlen = 2048\n",
    "n_train = int(round(0.95 * y_data.size / batch_size) * batch_size)\n",
    "n_val = y_data.size - n_train\n",
    "\n",
    "x_train = x_data[:n_train, :maxlen]\n",
    "y_train = y_data[:n_train]\n",
    "\n",
    "x_val = x_data[n_train:n_train+n_val, :maxlen]\n",
    "y_val = y_data[n_train:n_train+n_val]"
   ]
  },
  {
   "cell_type": "code",
   "execution_count": null,
   "metadata": {},
   "outputs": [],
   "source": [
    "# inputs\n",
    "input_snp = keras.Input(shape=(x_train.shape[1], ))\n",
    "\n",
    "# multi-layer perceptron (MLP)\n",
    "x = keras.layers.Dense(64, activation='relu',\n",
    "                       )(input_snp)\n",
    "x = keras.layers.Dense(64, activation='relu',\n",
    "                       )(x)\n",
    "x = keras.layers.Dense(32, activation='relu',\n",
    "                       )(x)\n",
    "x = keras.layers.Dense(16, activation='relu',\n",
    "                       )(x)\n",
    "x = keras.layers.Dense(1, activation='linear',\n",
    "                       )(x)\n",
    "\n",
    "# residual block\n",
    "y = keras.layers.Dense(1, activation='linear',\n",
    "                       )(input_snp)\n",
    "\n",
    "# add\n",
    "x = keras.layers.add([x, y])\n",
    "\n",
    "# model, adjusted learning parameters\n",
    "model = keras.Model(inputs=input_snp, outputs=x)\n",
    "opt = keras.optimizers.Adam(learning_rate=0.0001, \n",
    "                            beta_1=0.9, beta_2=0.99)\n",
    "model.compile(optimizer=opt, loss='mean_squared_error')"
   ]
  },
  {
   "cell_type": "raw",
   "metadata": {},
   "source": [
    "# inputs\n",
    "input_snp = keras.Input(shape=(x_train.shape[1], ))\n",
    "\n",
    "# multi-layer perceptron (MLP)\n",
    "x = keras.layers.Dense(64, activation='relu',\n",
    "                       kernel_regularizer=keras.regularizers.L1L2(l1=1e-5, l2=1e-4),\n",
    "                       activity_regularizer=keras.regularizers.L2(1E-6)\n",
    "                       )(input_snp)\n",
    "x = keras.layers.Dense(64, activation='relu',\n",
    "                       kernel_regularizer=keras.regularizers.L1L2(l1=1e-5, l2=1e-4),\n",
    "                       activity_regularizer=keras.regularizers.L2(1E-6)\n",
    "                       )(x)\n",
    "x = keras.layers.Dense(32, activation='relu',\n",
    "                       kernel_regularizer=keras.regularizers.L1L2(l1=1e-5, l2=1e-4),\n",
    "                       activity_regularizer=keras.regularizers.L2(1E-6)\n",
    "                       )(x)\n",
    "x = keras.layers.Dense(16, activation='relu',\n",
    "                       kernel_regularizer=keras.regularizers.L1L2(l1=1e-5, l2=1e-4),\n",
    "                       activity_regularizer=keras.regularizers.L2(1E-6)\n",
    "                       )(x)\n",
    "x = keras.layers.Dense(1, activation='linear',\n",
    "                       kernel_regularizer=keras.regularizers.L1L2(l1=1e-5, l2=1e-4),\n",
    "                       activity_regularizer=keras.regularizers.L2(1E-6)\n",
    "                       )(x)\n",
    "\n",
    "# residual block\n",
    "y = keras.layers.Dense(1, activation='linear',\n",
    "                       kernel_regularizer=keras.regularizers.L1L2(l1=1e-5, l2=1e-4),\n",
    "                       activity_regularizer=keras.regularizers.L2(1E-6)\n",
    "                       )(input_snp)\n",
    "\n",
    "# add\n",
    "x = keras.layers.add([x, y])\n",
    "\n",
    "model = keras.Model(inputs=input_snp, outputs=x)\n",
    "opt = keras.optimizers.Adam(learning_rate=0.0001, beta_1=0.9, beta_2=0.99)\n",
    "model.compile(optimizer=opt, loss='mean_squared_error')  # Use an appropriate loss function"
   ]
  },
  {
   "cell_type": "code",
   "execution_count": null,
   "metadata": {},
   "outputs": [],
   "source": [
    "model.summary()"
   ]
  },
  {
   "cell_type": "code",
   "execution_count": null,
   "metadata": {},
   "outputs": [],
   "source": [
    "# plot model summary\n",
    "keras.utils.plot_model(model, show_shapes=True, \n",
    "                       show_layer_activations=True, \n",
    "                       show_trainable=True, dpi=60)"
   ]
  },
  {
   "cell_type": "code",
   "execution_count": null,
   "metadata": {},
   "outputs": [],
   "source": [
    "# Early stop and weights save callbacks\n",
    "early_stop = keras.callbacks.EarlyStopping(monitor='val_loss', patience=3)\n",
    "checkpoint = keras.callbacks.ModelCheckpoint(\n",
    "    filepath=os.path.join('weights', 'geno_nn_deepnull.best.keras'),\n",
    "    monitor='val_loss',\n",
    "    mode='min',\n",
    "    save_best_only=True)\n",
    "history = model.fit(x=x_train, y=y_train, \n",
    "                    epochs=1000, \n",
    "                    batch_size=batch_size, \n",
    "                    validation_data=(x_val, y_val), \n",
    "                    callbacks=[early_stop, checkpoint])"
   ]
  },
  {
   "cell_type": "code",
   "execution_count": null,
   "metadata": {},
   "outputs": [],
   "source": [
    "# save the last update\n",
    "model.save(os.path.join('weights', 'geno_nn_deepnull.best.keras'))"
   ]
  },
  {
   "cell_type": "code",
   "execution_count": null,
   "metadata": {},
   "outputs": [],
   "source": [
    "plt.figure()\n",
    "plt.semilogy(history.history['loss'])\n",
    "plt.semilogy(history.history['val_loss'])\n",
    "plt.title('model accuracy')\n",
    "plt.ylabel('accuracy')\n",
    "plt.xlabel('epoch')\n",
    "plt.legend(['train', 'val'], loc='upper left')"
   ]
  },
  {
   "cell_type": "code",
   "execution_count": null,
   "metadata": {},
   "outputs": [],
   "source": [
    "# load \"best\" model\n",
    "model = keras.models.load_model(\n",
    "    filepath=os.path.join('weights', 'geno_nn_dense.best.keras')\n",
    ")"
   ]
  },
  {
   "cell_type": "code",
   "execution_count": null,
   "metadata": {},
   "outputs": [],
   "source": [
    "y_train_pred = model.predict(x_train)\n",
    "y_val_pred = model.predict(x_val)"
   ]
  },
  {
   "cell_type": "code",
   "execution_count": null,
   "metadata": {},
   "outputs": [],
   "source": [
    "# evalute performance using statsmodels.api.OLS\n",
    "ols_train = sm.OLS(y_train_pred.flatten(), sm.add_constant(y_train.flatten()))\n",
    "train_fit = ols_train.fit()\n",
    "\n",
    "ols_val = sm.OLS( y_val_pred.flatten(), sm.add_constant(y_val.flatten()))\n",
    "val_fit = ols_val.fit()"
   ]
  },
  {
   "cell_type": "code",
   "execution_count": null,
   "metadata": {},
   "outputs": [],
   "source": [
    "# plot predictions vs. actual value with regression lines\n",
    "fig, ax = plt.subplots(1, 1)\n",
    "ax.plot(y_train[::20], \n",
    "        y_train_pred[::20], \n",
    "        ',', label='train')\n",
    "a, b = train_fit.params\n",
    "ax.plot([y_train.min(), y_train.max()], \n",
    "        a + b * np.array([y_train.min(), y_train.max()]), 'C0', \n",
    "        label='R2={:.3f}'.format(train_fit.rsquared))\n",
    "\n",
    "ax.plot(y_val, \n",
    "        y_val_pred, \n",
    "        ',', label='val')\n",
    "a, b = val_fit.params\n",
    "ax.plot([y_val.min(), y_val.max()], \n",
    "        a + b * np.array([y_val.min(), y_val.max()]), 'C1', \n",
    "        label='R2={:.3f}'.format(val_fit.rsquared))\n",
    "\n",
    "ax.legend(loc='best')\n",
    "plt.xlabel('$y$')\n",
    "plt.ylabel(r'$\\hat{y}$')"
   ]
  },
  {
   "cell_type": "code",
   "execution_count": null,
   "metadata": {},
   "outputs": [],
   "source": [
    "print(np.corrcoef(y_train.flatten(), y_train_pred.flatten()))\n",
    "print(np.corrcoef(y_val.flatten(), y_val_pred.flatten()))"
   ]
  },
  {
   "cell_type": "code",
   "execution_count": null,
   "metadata": {},
   "outputs": [],
   "source": []
  }
 ],
 "metadata": {
  "kernelspec": {
   "display_name": "Python 3 (ipykernel)",
   "language": "python",
   "name": "python3"
  },
  "language_info": {
   "codemirror_mode": {
    "name": "ipython",
    "version": 3
   },
   "file_extension": ".py",
   "mimetype": "text/x-python",
   "name": "python",
   "nbconvert_exporter": "python",
   "pygments_lexer": "ipython3",
   "version": "3.11.0rc1"
  }
 },
 "nbformat": 4,
 "nbformat_minor": 2
}
