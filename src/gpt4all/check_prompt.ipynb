{
 "cells": [
  {
   "cell_type": "code",
   "execution_count": 1,
   "metadata": {},
   "outputs": [],
   "source": [
    "# import packages\n",
    "import os\n",
    "from glob import glob\n",
    "from gpt4all import GPT4All"
   ]
  },
  {
   "cell_type": "code",
   "execution_count": 2,
   "metadata": {},
   "outputs": [
    {
     "data": {
      "text/plain": [
       "['cuda:Tesla V100S-PCIE-32GB']"
      ]
     },
     "execution_count": 2,
     "metadata": {},
     "output_type": "execute_result"
    }
   ],
   "source": [
    "# Check if a GPU is available:\n",
    "GPT4All.list_gpus()"
   ]
  },
  {
   "cell_type": "code",
   "execution_count": 3,
   "metadata": {},
   "outputs": [
    {
     "name": "stdout",
     "output_type": "stream",
     "text": [
      "\n",
      "Checking /ess/p33/data/durable/s3-api/espehage-nird/LLM_weights/weights/DeepSeek-R1-Distill-Llama-8B-Q8_0.gguf, asking:\n",
      "What is the capital of France?\n",
      "\n",
      "The capital of France is Paris. \n",
      "\n",
      "Hmm, that seems straightforward. But wait, let me double-check to make sure I didn't miss anything.\n",
      "\n",
      "First off, France is a country in Western Europe. Its official language is French, and it's known for its rich history, culture, and contributions to various fields like art, science, and cuisine.\n",
      "\n",
      "Now, when thinking about the capital of a country, it's usually the seat of government, where important decisions are made, and where political power resides. So, Paris being the capital makes sense because I've heard that's where the French government is located.\n",
      "\n",
      "But just to be thorough, let me think if there could be any other cities in France that might also hold significant importance. There's Marseille, which is a major port city and cultural hub, but it's not the political center. Then there's Lyon, known for its historical significance and as a financial center, but again, not the capital.\n",
      "\n",
      "Also, considering Paris's influence both domestically and internationally, it holds a prominent position in global politics, economy, culture, and arts. It's often at the forefront of major international events and conferences.\n",
      "\n",
      "I wonder if there are any alternative capitals or dual capitals like some other countries have? For example, some nations have two official capitals for various reasons—geographical or political. But I don't think France has that setup. From what I recall, Paris is unambiguously the capital without any shared responsibilities with another city.\n",
      "\n",
      "Additionally, many landmarks and monuments in Paris symbolize French identity on a global scale. The Eiffel Tower, the Louvre Museum, Notre-Dame Cathedral, and others are iconic and associated with France worldwide. These symbols of cultural heritage reinforce Paris's role as the heart of the nation.\n",
      "\n",
      "Moreover, considering historical context, Paris has been a central location throughout much of France's history. It was a major center during the Middle Ages, the Renaissance, and into modern times. Its strategic importance as a hub for trade, politics, and culture has solidified its position over centuries.\n",
      "\n",
      "In terms of government institutions, all major branches of the French government are based in Paris. The President of France resides there, along with the Parliament and the Government Council. This centralization underscores Paris's role as the administrative heart of the country.\n",
      "\n",
      "I should also consider if there have been any changes recently regarding the capital status. Sometimes countries move their capitals for various reasons—geographical shifts due to natural disasters or political moves. However, I don't believe France has made any official changes to its capital in recent history.\n",
      "\n",
      "Furthermore, international relations often involve interactions with Paris since it's a major city globally. Diplomatic missions and embassies are typically located there because of its prominence as a world city.\n",
      "\n",
      "In summary, after considering geographical importance, historical significance, cultural landmarks, government functions, and global influence, it seems clear that Paris is indeed the capital of France without any ambiguity or shared status with another city.\n",
      "</think>\n",
      "\n",
      "The capital of France is Paris.\n",
      "\n",
      "Checking /ess/p33/data/durable/s3-api/espehage-nird/LLM_weights/weights/Meta-Llama-3-8B-Instruct.Q4_0.gguf, asking:\n",
      "What is the capital of France?\n",
      "\n",
      "The capital of France is Paris.\n"
     ]
    }
   ],
   "source": [
    "model_path = '/ess/p33/data/durable/s3-api/espehage-nird/LLM_weights/weights'\n",
    "prompt = \"What is the capital of France?\"\n",
    "max_tokens=1024\n",
    "\n",
    "# iterate over differerent model weights\n",
    "for filename in glob(os.path.join(model_path, '*.gguf')):\n",
    "    print(f\"\\nChecking {filename}, asking:\\n{prompt}\\n\")\n",
    "\n",
    "    model = GPT4All(filename,\n",
    "                    model_path=model_path,\n",
    "                    allow_download=False,\n",
    "                    device='cuda'\n",
    "                    )\n",
    "    with model.chat_session():\n",
    "        response = model.generate(prompt, max_tokens=max_tokens)\n",
    "        print(response)\n",
    "    "
   ]
  },
  {
   "cell_type": "code",
   "execution_count": null,
   "metadata": {},
   "outputs": [],
   "source": []
  }
 ],
 "metadata": {
  "kernelspec": {
   "display_name": "Python 3 (ipykernel)",
   "language": "python",
   "name": "python3"
  },
  "language_info": {
   "codemirror_mode": {
    "name": "ipython",
    "version": 3
   },
   "file_extension": ".py",
   "mimetype": "text/x-python",
   "name": "python",
   "nbconvert_exporter": "python",
   "pygments_lexer": "ipython3",
   "version": "3.11.0rc1"
  }
 },
 "nbformat": 4,
 "nbformat_minor": 2
}
